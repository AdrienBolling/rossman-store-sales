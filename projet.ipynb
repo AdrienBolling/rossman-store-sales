{
 "cells": [
  {
   "cell_type": "markdown",
   "id": "57d76c16-98dd-4f60-a411-af4f115e6fe5",
   "metadata": {},
   "source": [
    "#### Import des librairies"
   ]
  },
  {
   "cell_type": "code",
   "execution_count": 59,
   "id": "e56c3687-113d-4a39-8a8c-7932e5d5acbf",
   "metadata": {},
   "outputs": [],
   "source": [
    "import kaggle\n",
    "import pandas as pd\n",
    "import matplotlib.pyplot as plt\n",
    "import seaborn as sns\n",
    "import sklearn as sk\n",
    "from sklearn.decomposition import PCA\n",
    "from sklearn.preprocessing import StandardScaler"
   ]
  },
  {
   "cell_type": "markdown",
   "id": "4bfb4407-5a96-4d13-89b9-f4f9e10c115f",
   "metadata": {},
   "source": [
    "#### Import des données"
   ]
  },
  {
   "cell_type": "code",
   "execution_count": null,
   "id": "74c2a2e1-740c-4896-a55e-abc6e707455e",
   "metadata": {},
   "outputs": [],
   "source": [
    "df_Store = pd.read_csv('./data/store.csv', low_memory=False)\n",
    "df_Test = pd.read_csv('./data/test.csv', low_memory=False)\n",
    "df_Train = pd.read_csv('./data/train.csv', low_memory=False)"
   ]
  },
  {
   "cell_type": "markdown",
   "id": "e9df75a3-2466-40af-a96d-ef43ed0fa02b",
   "metadata": {},
   "source": [
    "#### Description des données"
   ]
  },
  {
   "cell_type": "code",
   "execution_count": 14,
   "id": "9511a762-def7-44ea-a45f-d1c58c8ff1c6",
   "metadata": {},
   "outputs": [
    {
     "data": {
      "text/html": [
       "<div>\n",
       "<style scoped>\n",
       "    .dataframe tbody tr th:only-of-type {\n",
       "        vertical-align: middle;\n",
       "    }\n",
       "\n",
       "    .dataframe tbody tr th {\n",
       "        vertical-align: top;\n",
       "    }\n",
       "\n",
       "    .dataframe thead th {\n",
       "        text-align: right;\n",
       "    }\n",
       "</style>\n",
       "<table border=\"1\" class=\"dataframe\">\n",
       "  <thead>\n",
       "    <tr style=\"text-align: right;\">\n",
       "      <th></th>\n",
       "      <th>Store</th>\n",
       "      <th>StoreType</th>\n",
       "      <th>Assortment</th>\n",
       "      <th>CompetitionDistance</th>\n",
       "      <th>CompetitionOpenSinceMonth</th>\n",
       "      <th>CompetitionOpenSinceYear</th>\n",
       "      <th>Promo2</th>\n",
       "      <th>Promo2SinceWeek</th>\n",
       "      <th>Promo2SinceYear</th>\n",
       "      <th>PromoInterval</th>\n",
       "    </tr>\n",
       "  </thead>\n",
       "  <tbody>\n",
       "    <tr>\n",
       "      <th>0</th>\n",
       "      <td>1</td>\n",
       "      <td>c</td>\n",
       "      <td>a</td>\n",
       "      <td>1270.0</td>\n",
       "      <td>9.0</td>\n",
       "      <td>2008.0</td>\n",
       "      <td>0</td>\n",
       "      <td>NaN</td>\n",
       "      <td>NaN</td>\n",
       "      <td>NaN</td>\n",
       "    </tr>\n",
       "    <tr>\n",
       "      <th>1</th>\n",
       "      <td>2</td>\n",
       "      <td>a</td>\n",
       "      <td>a</td>\n",
       "      <td>570.0</td>\n",
       "      <td>11.0</td>\n",
       "      <td>2007.0</td>\n",
       "      <td>1</td>\n",
       "      <td>13.0</td>\n",
       "      <td>2010.0</td>\n",
       "      <td>Jan,Apr,Jul,Oct</td>\n",
       "    </tr>\n",
       "    <tr>\n",
       "      <th>2</th>\n",
       "      <td>3</td>\n",
       "      <td>a</td>\n",
       "      <td>a</td>\n",
       "      <td>14130.0</td>\n",
       "      <td>12.0</td>\n",
       "      <td>2006.0</td>\n",
       "      <td>1</td>\n",
       "      <td>14.0</td>\n",
       "      <td>2011.0</td>\n",
       "      <td>Jan,Apr,Jul,Oct</td>\n",
       "    </tr>\n",
       "    <tr>\n",
       "      <th>3</th>\n",
       "      <td>4</td>\n",
       "      <td>c</td>\n",
       "      <td>c</td>\n",
       "      <td>620.0</td>\n",
       "      <td>9.0</td>\n",
       "      <td>2009.0</td>\n",
       "      <td>0</td>\n",
       "      <td>NaN</td>\n",
       "      <td>NaN</td>\n",
       "      <td>NaN</td>\n",
       "    </tr>\n",
       "    <tr>\n",
       "      <th>4</th>\n",
       "      <td>5</td>\n",
       "      <td>a</td>\n",
       "      <td>a</td>\n",
       "      <td>29910.0</td>\n",
       "      <td>4.0</td>\n",
       "      <td>2015.0</td>\n",
       "      <td>0</td>\n",
       "      <td>NaN</td>\n",
       "      <td>NaN</td>\n",
       "      <td>NaN</td>\n",
       "    </tr>\n",
       "  </tbody>\n",
       "</table>\n",
       "</div>"
      ],
      "text/plain": [
       "   Store StoreType Assortment  CompetitionDistance  CompetitionOpenSinceMonth  \\\n",
       "0      1         c          a               1270.0                        9.0   \n",
       "1      2         a          a                570.0                       11.0   \n",
       "2      3         a          a              14130.0                       12.0   \n",
       "3      4         c          c                620.0                        9.0   \n",
       "4      5         a          a              29910.0                        4.0   \n",
       "\n",
       "   CompetitionOpenSinceYear  Promo2  Promo2SinceWeek  Promo2SinceYear  \\\n",
       "0                    2008.0       0              NaN              NaN   \n",
       "1                    2007.0       1             13.0           2010.0   \n",
       "2                    2006.0       1             14.0           2011.0   \n",
       "3                    2009.0       0              NaN              NaN   \n",
       "4                    2015.0       0              NaN              NaN   \n",
       "\n",
       "     PromoInterval  \n",
       "0              NaN  \n",
       "1  Jan,Apr,Jul,Oct  \n",
       "2  Jan,Apr,Jul,Oct  \n",
       "3              NaN  \n",
       "4              NaN  "
      ]
     },
     "execution_count": 14,
     "metadata": {},
     "output_type": "execute_result"
    }
   ],
   "source": [
    "df_Store.head()"
   ]
  },
  {
   "cell_type": "markdown",
   "id": "9bef171e-64bb-4722-90b7-ca405b457ea2",
   "metadata": {},
   "source": [
    "Description des données numériques"
   ]
  },
  {
   "cell_type": "code",
   "execution_count": 29,
   "id": "e547e7ea-17d8-4ea6-91af-ffd40adeb0e1",
   "metadata": {},
   "outputs": [
    {
     "data": {
      "text/html": [
       "<div>\n",
       "<style scoped>\n",
       "    .dataframe tbody tr th:only-of-type {\n",
       "        vertical-align: middle;\n",
       "    }\n",
       "\n",
       "    .dataframe tbody tr th {\n",
       "        vertical-align: top;\n",
       "    }\n",
       "\n",
       "    .dataframe thead th {\n",
       "        text-align: right;\n",
       "    }\n",
       "</style>\n",
       "<table border=\"1\" class=\"dataframe\">\n",
       "  <thead>\n",
       "    <tr style=\"text-align: right;\">\n",
       "      <th></th>\n",
       "      <th>Store</th>\n",
       "      <th>CompetitionDistance</th>\n",
       "      <th>CompetitionOpenSinceMonth</th>\n",
       "      <th>CompetitionOpenSinceYear</th>\n",
       "      <th>Promo2</th>\n",
       "      <th>Promo2SinceWeek</th>\n",
       "      <th>Promo2SinceYear</th>\n",
       "    </tr>\n",
       "  </thead>\n",
       "  <tbody>\n",
       "    <tr>\n",
       "      <th>count</th>\n",
       "      <td>1115.00000</td>\n",
       "      <td>1112.000000</td>\n",
       "      <td>761.000000</td>\n",
       "      <td>761.000000</td>\n",
       "      <td>1115.000000</td>\n",
       "      <td>571.000000</td>\n",
       "      <td>571.000000</td>\n",
       "    </tr>\n",
       "    <tr>\n",
       "      <th>mean</th>\n",
       "      <td>558.00000</td>\n",
       "      <td>5404.901079</td>\n",
       "      <td>7.224704</td>\n",
       "      <td>2008.668857</td>\n",
       "      <td>0.512108</td>\n",
       "      <td>23.595447</td>\n",
       "      <td>2011.763573</td>\n",
       "    </tr>\n",
       "    <tr>\n",
       "      <th>std</th>\n",
       "      <td>322.01708</td>\n",
       "      <td>7663.174720</td>\n",
       "      <td>3.212348</td>\n",
       "      <td>6.195983</td>\n",
       "      <td>0.500078</td>\n",
       "      <td>14.141984</td>\n",
       "      <td>1.674935</td>\n",
       "    </tr>\n",
       "    <tr>\n",
       "      <th>min</th>\n",
       "      <td>1.00000</td>\n",
       "      <td>20.000000</td>\n",
       "      <td>1.000000</td>\n",
       "      <td>1900.000000</td>\n",
       "      <td>0.000000</td>\n",
       "      <td>1.000000</td>\n",
       "      <td>2009.000000</td>\n",
       "    </tr>\n",
       "    <tr>\n",
       "      <th>25%</th>\n",
       "      <td>279.50000</td>\n",
       "      <td>717.500000</td>\n",
       "      <td>4.000000</td>\n",
       "      <td>2006.000000</td>\n",
       "      <td>0.000000</td>\n",
       "      <td>13.000000</td>\n",
       "      <td>2011.000000</td>\n",
       "    </tr>\n",
       "    <tr>\n",
       "      <th>50%</th>\n",
       "      <td>558.00000</td>\n",
       "      <td>2325.000000</td>\n",
       "      <td>8.000000</td>\n",
       "      <td>2010.000000</td>\n",
       "      <td>1.000000</td>\n",
       "      <td>22.000000</td>\n",
       "      <td>2012.000000</td>\n",
       "    </tr>\n",
       "    <tr>\n",
       "      <th>75%</th>\n",
       "      <td>836.50000</td>\n",
       "      <td>6882.500000</td>\n",
       "      <td>10.000000</td>\n",
       "      <td>2013.000000</td>\n",
       "      <td>1.000000</td>\n",
       "      <td>37.000000</td>\n",
       "      <td>2013.000000</td>\n",
       "    </tr>\n",
       "    <tr>\n",
       "      <th>max</th>\n",
       "      <td>1115.00000</td>\n",
       "      <td>75860.000000</td>\n",
       "      <td>12.000000</td>\n",
       "      <td>2015.000000</td>\n",
       "      <td>1.000000</td>\n",
       "      <td>50.000000</td>\n",
       "      <td>2015.000000</td>\n",
       "    </tr>\n",
       "  </tbody>\n",
       "</table>\n",
       "</div>"
      ],
      "text/plain": [
       "            Store  CompetitionDistance  CompetitionOpenSinceMonth  \\\n",
       "count  1115.00000          1112.000000                 761.000000   \n",
       "mean    558.00000          5404.901079                   7.224704   \n",
       "std     322.01708          7663.174720                   3.212348   \n",
       "min       1.00000            20.000000                   1.000000   \n",
       "25%     279.50000           717.500000                   4.000000   \n",
       "50%     558.00000          2325.000000                   8.000000   \n",
       "75%     836.50000          6882.500000                  10.000000   \n",
       "max    1115.00000         75860.000000                  12.000000   \n",
       "\n",
       "       CompetitionOpenSinceYear       Promo2  Promo2SinceWeek  Promo2SinceYear  \n",
       "count                761.000000  1115.000000       571.000000       571.000000  \n",
       "mean                2008.668857     0.512108        23.595447      2011.763573  \n",
       "std                    6.195983     0.500078        14.141984         1.674935  \n",
       "min                 1900.000000     0.000000         1.000000      2009.000000  \n",
       "25%                 2006.000000     0.000000        13.000000      2011.000000  \n",
       "50%                 2010.000000     1.000000        22.000000      2012.000000  \n",
       "75%                 2013.000000     1.000000        37.000000      2013.000000  \n",
       "max                 2015.000000     1.000000        50.000000      2015.000000  "
      ]
     },
     "execution_count": 29,
     "metadata": {},
     "output_type": "execute_result"
    }
   ],
   "source": [
    "df_Store.describe()"
   ]
  },
  {
   "cell_type": "raw",
   "id": "a0a77ffa-440c-4eb5-beca-85037f2502b2",
   "metadata": {},
   "source": [
    "Description des données qualitatives"
   ]
  },
  {
   "cell_type": "code",
   "execution_count": 30,
   "id": "abcc2a30-89a6-4e80-9b36-3e7969a3f7ec",
   "metadata": {},
   "outputs": [
    {
     "data": {
      "text/html": [
       "<div>\n",
       "<style scoped>\n",
       "    .dataframe tbody tr th:only-of-type {\n",
       "        vertical-align: middle;\n",
       "    }\n",
       "\n",
       "    .dataframe tbody tr th {\n",
       "        vertical-align: top;\n",
       "    }\n",
       "\n",
       "    .dataframe thead th {\n",
       "        text-align: right;\n",
       "    }\n",
       "</style>\n",
       "<table border=\"1\" class=\"dataframe\">\n",
       "  <thead>\n",
       "    <tr style=\"text-align: right;\">\n",
       "      <th></th>\n",
       "      <th>StoreType</th>\n",
       "      <th>Assortment</th>\n",
       "      <th>PromoInterval</th>\n",
       "    </tr>\n",
       "  </thead>\n",
       "  <tbody>\n",
       "    <tr>\n",
       "      <th>count</th>\n",
       "      <td>1115</td>\n",
       "      <td>1115</td>\n",
       "      <td>571</td>\n",
       "    </tr>\n",
       "    <tr>\n",
       "      <th>unique</th>\n",
       "      <td>4</td>\n",
       "      <td>3</td>\n",
       "      <td>3</td>\n",
       "    </tr>\n",
       "    <tr>\n",
       "      <th>top</th>\n",
       "      <td>a</td>\n",
       "      <td>a</td>\n",
       "      <td>Jan,Apr,Jul,Oct</td>\n",
       "    </tr>\n",
       "    <tr>\n",
       "      <th>freq</th>\n",
       "      <td>602</td>\n",
       "      <td>593</td>\n",
       "      <td>335</td>\n",
       "    </tr>\n",
       "  </tbody>\n",
       "</table>\n",
       "</div>"
      ],
      "text/plain": [
       "       StoreType Assortment    PromoInterval\n",
       "count       1115       1115              571\n",
       "unique         4          3                3\n",
       "top            a          a  Jan,Apr,Jul,Oct\n",
       "freq         602        593              335"
      ]
     },
     "execution_count": 30,
     "metadata": {},
     "output_type": "execute_result"
    }
   ],
   "source": [
    "df_Store.describe(include='object')"
   ]
  },
  {
   "cell_type": "code",
   "execution_count": 23,
   "id": "bb5e8bad-5f59-49ae-927d-10439c0102ed",
   "metadata": {},
   "outputs": [
    {
     "data": {
      "text/plain": [
       "<function matplotlib.pyplot.show(close=None, block=None)>"
      ]
     },
     "execution_count": 23,
     "metadata": {},
     "output_type": "execute_result"
    },
    {
     "data": {
      "image/png": "[encoded data removed]",
      "text/plain": [
       "<Figure size 288x288 with 1 Axes>"
      ]
     },
     "metadata": {
      "needs_background": "light"
     },
     "output_type": "display_data"
    }
   ],
   "source": [
    "corr_store = df_Store.corr()\n",
    "plt.matshow(corr_store)\n",
    "plt.show"
   ]
  },
  {
   "cell_type": "markdown",
   "id": "97c7221e-51fe-430c-bfeb-4fde201160ce",
   "metadata": {},
   "source": [
    "On remarque que la matrice est peu lisible avec seulement un plot classique, on va plutôt utiliser le package seaborn"
   ]
  },
  {
   "cell_type": "code",
   "execution_count": 28,
   "id": "e16e94cd-8ac4-4298-9697-d6f79c89e903",
   "metadata": {},
   "outputs": [
    {
     "data": {
      "image/png": "[encoded data removed]",
      "text/plain": [
       "<Figure size 576x432 with 2 Axes>"
      ]
     },
     "metadata": {
      "needs_background": "light"
     },
     "output_type": "display_data"
    }
   ],
   "source": [
    "plt.figure(figsize=(8, 6))\n",
    "sns.heatmap(corr_store, annot=True)\n",
    "plt.show()"
   ]
  },
  {
   "cell_type": "markdown",
   "id": "3b768138-c3a3-4ac2-919c-3a01809cee26",
   "metadata": {},
   "source": [
    "Aucun couple de données ne semble être suffisamment corrélés pour être redondant. On pourra donc à l'avenir considérer qu'on garde tout le dataset."
   ]
  },
  {
   "cell_type": "markdown",
   "id": "e050eb25-0008-4b8e-9a00-73178269134b",
   "metadata": {},
   "source": [
    "#### Tentatives d'analyse de données"
   ]
  },
  {
   "cell_type": "markdown",
   "id": "165c29f1-b4e7-4feb-a6d4-5876cbe0a843",
   "metadata": {},
   "source": [
    "Il est peut-être possible de regrouper les données décrivant les promotions, on va tenter de le faire grâce à une ACP"
   ]
  },
  {
   "cell_type": "markdown",
   "id": "6f83ec39-20f6-4026-a8ed-9f33c69d12ca",
   "metadata": {},
   "source": [
    "On commence par adapter les données en question"
   ]
  },
  {
   "cell_type": "code",
   "execution_count": 68,
   "id": "0b83346b-96d7-426f-8795-1565f43916db",
   "metadata": {},
   "outputs": [
    {
     "data": {
      "text/html": [
       "<div>\n",
       "<style scoped>\n",
       "    .dataframe tbody tr th:only-of-type {\n",
       "        vertical-align: middle;\n",
       "    }\n",
       "\n",
       "    .dataframe tbody tr th {\n",
       "        vertical-align: top;\n",
       "    }\n",
       "\n",
       "    .dataframe thead th {\n",
       "        text-align: right;\n",
       "    }\n",
       "</style>\n",
       "<table border=\"1\" class=\"dataframe\">\n",
       "  <thead>\n",
       "    <tr style=\"text-align: right;\">\n",
       "      <th></th>\n",
       "      <th>scaledStore</th>\n",
       "      <th>scaledCompetitionDistance</th>\n",
       "      <th>scaledCompetitionOpenSinceMonth</th>\n",
       "      <th>scaledCompetitionOpenSinceYear</th>\n",
       "      <th>scaledPromo2</th>\n",
       "      <th>scaledPromo2SinceWeek</th>\n",
       "      <th>scaledPromo2SinceYear</th>\n",
       "    </tr>\n",
       "  </thead>\n",
       "  <tbody>\n",
       "    <tr>\n",
       "      <th>0</th>\n",
       "      <td>-1.730498</td>\n",
       "      <td>-0.538290</td>\n",
       "      <td>0.950048</td>\n",
       "      <td>0.681314</td>\n",
       "      <td>-1.024516</td>\n",
       "      <td>-0.777805</td>\n",
       "      <td>-1.024515</td>\n",
       "    </tr>\n",
       "    <tr>\n",
       "      <th>1</th>\n",
       "      <td>-1.727391</td>\n",
       "      <td>-0.629739</td>\n",
       "      <td>1.417010</td>\n",
       "      <td>0.680244</td>\n",
       "      <td>0.976071</td>\n",
       "      <td>0.059001</td>\n",
       "      <td>0.974317</td>\n",
       "    </tr>\n",
       "    <tr>\n",
       "      <th>2</th>\n",
       "      <td>-1.724284</td>\n",
       "      <td>1.141759</td>\n",
       "      <td>1.650491</td>\n",
       "      <td>0.679175</td>\n",
       "      <td>0.976071</td>\n",
       "      <td>0.123370</td>\n",
       "      <td>0.975311</td>\n",
       "    </tr>\n",
       "    <tr>\n",
       "      <th>3</th>\n",
       "      <td>-1.721178</td>\n",
       "      <td>-0.623207</td>\n",
       "      <td>0.950048</td>\n",
       "      <td>0.682383</td>\n",
       "      <td>-1.024516</td>\n",
       "      <td>-0.777805</td>\n",
       "      <td>-1.024515</td>\n",
       "    </tr>\n",
       "    <tr>\n",
       "      <th>4</th>\n",
       "      <td>-1.718071</td>\n",
       "      <td>3.203281</td>\n",
       "      <td>-0.217357</td>\n",
       "      <td>0.688800</td>\n",
       "      <td>-1.024516</td>\n",
       "      <td>-0.777805</td>\n",
       "      <td>-1.024515</td>\n",
       "    </tr>\n",
       "  </tbody>\n",
       "</table>\n",
       "</div>"
      ],
      "text/plain": [
       "   scaledStore  scaledCompetitionDistance  scaledCompetitionOpenSinceMonth  \\\n",
       "0    -1.730498                  -0.538290                         0.950048   \n",
       "1    -1.727391                  -0.629739                         1.417010   \n",
       "2    -1.724284                   1.141759                         1.650491   \n",
       "3    -1.721178                  -0.623207                         0.950048   \n",
       "4    -1.718071                   3.203281                        -0.217357   \n",
       "\n",
       "   scaledCompetitionOpenSinceYear  scaledPromo2  scaledPromo2SinceWeek  \\\n",
       "0                        0.681314     -1.024516              -0.777805   \n",
       "1                        0.680244      0.976071               0.059001   \n",
       "2                        0.679175      0.976071               0.123370   \n",
       "3                        0.682383     -1.024516              -0.777805   \n",
       "4                        0.688800     -1.024516              -0.777805   \n",
       "\n",
       "   scaledPromo2SinceYear  \n",
       "0              -1.024515  \n",
       "1               0.974317  \n",
       "2               0.975311  \n",
       "3              -1.024515  \n",
       "4              -1.024515  "
      ]
     },
     "execution_count": 68,
     "metadata": {},
     "output_type": "execute_result"
    }
   ],
   "source": [
    "df_Store_PCA = df_Store.select_dtypes(['number'])\n",
    "col = ['scaled'+i for i in df_Store_PCA.columns]\n",
    "df_Store_PCA = df_Store_PCA.fillna(0)\n",
    "df_Store_PCA = StandardScaler().fit_transform(df_Store_PCA)\n",
    "df_Store_PCA = pd.DataFrame(data = df_Store_PCA, columns = col)\n",
    "df_Store_PCA.head()"
   ]
  },
  {
   "cell_type": "code",
   "execution_count": 87,
   "id": "cb29cebe-fabc-4046-94dd-37125061762e",
   "metadata": {},
   "outputs": [
    {
     "data": {
      "text/html": [
       "<div>\n",
       "<style scoped>\n",
       "    .dataframe tbody tr th:only-of-type {\n",
       "        vertical-align: middle;\n",
       "    }\n",
       "\n",
       "    .dataframe tbody tr th {\n",
       "        vertical-align: top;\n",
       "    }\n",
       "\n",
       "    .dataframe thead th {\n",
       "        text-align: right;\n",
       "    }\n",
       "</style>\n",
       "<table border=\"1\" class=\"dataframe\">\n",
       "  <thead>\n",
       "    <tr style=\"text-align: right;\">\n",
       "      <th></th>\n",
       "      <th>principal component 1</th>\n",
       "      <th>principal component 2</th>\n",
       "      <th>principal component 3</th>\n",
       "      <th>principal component 4</th>\n",
       "      <th>principal component 5</th>\n",
       "      <th>principal component 6</th>\n",
       "      <th>principal component 7</th>\n",
       "    </tr>\n",
       "  </thead>\n",
       "  <tbody>\n",
       "    <tr>\n",
       "      <th>0</th>\n",
       "      <td>-1.795388</td>\n",
       "      <td>-0.859779</td>\n",
       "      <td>1.175857</td>\n",
       "      <td>-1.402064</td>\n",
       "      <td>-0.155332</td>\n",
       "      <td>-0.142169</td>\n",
       "      <td>-0.000027</td>\n",
       "    </tr>\n",
       "    <tr>\n",
       "      <th>1</th>\n",
       "      <td>0.876553</td>\n",
       "      <td>-1.825212</td>\n",
       "      <td>1.348177</td>\n",
       "      <td>-1.103181</td>\n",
       "      <td>0.639557</td>\n",
       "      <td>-0.461760</td>\n",
       "      <td>-0.001470</td>\n",
       "    </tr>\n",
       "    <tr>\n",
       "      <th>2</th>\n",
       "      <td>0.645561</td>\n",
       "      <td>-1.818017</td>\n",
       "      <td>2.158051</td>\n",
       "      <td>0.458373</td>\n",
       "      <td>0.579854</td>\n",
       "      <td>-0.675189</td>\n",
       "      <td>-0.000665</td>\n",
       "    </tr>\n",
       "    <tr>\n",
       "      <th>3</th>\n",
       "      <td>-1.784465</td>\n",
       "      <td>-0.868585</td>\n",
       "      <td>1.128870</td>\n",
       "      <td>-1.471965</td>\n",
       "      <td>-0.155327</td>\n",
       "      <td>-0.139322</td>\n",
       "      <td>-0.000032</td>\n",
       "    </tr>\n",
       "    <tr>\n",
       "      <th>4</th>\n",
       "      <td>-2.099089</td>\n",
       "      <td>0.306539</td>\n",
       "      <td>2.858912</td>\n",
       "      <td>1.845424</td>\n",
       "      <td>-0.127304</td>\n",
       "      <td>0.585999</td>\n",
       "      <td>0.000195</td>\n",
       "    </tr>\n",
       "  </tbody>\n",
       "</table>\n",
       "</div>"
      ],
      "text/plain": [
       "   principal component 1  principal component 2  principal component 3  \\\n",
       "0              -1.795388              -0.859779               1.175857   \n",
       "1               0.876553              -1.825212               1.348177   \n",
       "2               0.645561              -1.818017               2.158051   \n",
       "3              -1.784465              -0.868585               1.128870   \n",
       "4              -2.099089               0.306539               2.858912   \n",
       "\n",
       "   principal component 4  principal component 5  principal component 6  \\\n",
       "0              -1.402064              -0.155332              -0.142169   \n",
       "1              -1.103181               0.639557              -0.461760   \n",
       "2               0.458373               0.579854              -0.675189   \n",
       "3              -1.471965              -0.155327              -0.139322   \n",
       "4               1.845424              -0.127304               0.585999   \n",
       "\n",
       "   principal component 7  \n",
       "0              -0.000027  \n",
       "1              -0.001470  \n",
       "2              -0.000665  \n",
       "3              -0.000032  \n",
       "4               0.000195  "
      ]
     },
     "execution_count": 87,
     "metadata": {},
     "output_type": "execute_result"
    }
   ],
   "source": [
    "pca = PCA()\n",
    "PCA_Store = pca.fit_transform(df_Store_PCA)\n",
    "PCA_Store_df = pd.DataFrame(data = PCA_Store, columns = ['principal component '+ str(i) for i in range(1,8)])\n",
    "PCA_Store_df.head()"
   ]
  },
  {
   "cell_type": "code",
   "execution_count": 90,
   "id": "e2fecc1b-3396-4e50-b60a-9f5c81c64dfb",
   "metadata": {},
   "outputs": [
    {
     "data": {
      "text/plain": [
       "array([3.96060347e-01, 2.48097098e-01, 1.44752955e-01, 1.35595742e-01,\n",
       "       4.49391096e-02, 3.05546520e-02, 9.57242151e-08])"
      ]
     },
     "execution_count": 90,
     "metadata": {},
     "output_type": "execute_result"
    }
   ],
   "source": [
    "pca.explained_variance_ratio_"
   ]
  }
 ],
 "metadata": {
  "kernelspec": {
   "display_name": "Python 3 (ipykernel)",
   "language": "python",
   "name": "python3"
  },
  "language_info": {
   "codemirror_mode": {
    "name": "ipython",
    "version": 3
   },
   "file_extension": ".py",
   "mimetype": "text/x-python",
   "name": "python",
   "nbconvert_exporter": "python",
   "pygments_lexer": "ipython3",
   "version": "3.9.7"
  }
 },
 "nbformat": 4,
 "nbformat_minor": 5
}
